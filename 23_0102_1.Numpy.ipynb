{
 "cells": [
  {
   "cell_type": "markdown",
   "id": "2c7d3613-f6ce-4b81-955f-56bb951c3fab",
   "metadata": {},
   "source": [
    "# Numpy 연산"
   ]
  },
  {
   "cell_type": "code",
   "execution_count": 1,
   "id": "5c307b08-55a8-421b-a622-64c0b613f3b0",
   "metadata": {},
   "outputs": [],
   "source": [
    "import numpy as np"
   ]
  },
  {
   "cell_type": "code",
   "execution_count": 2,
   "id": "ce9001f1-0c5b-4a44-9979-eb6ad49a0276",
   "metadata": {},
   "outputs": [],
   "source": [
    "A=np.array([[1,2],[3,4]])\n",
    "B=np.array([[3,1],[1,6]])"
   ]
  },
  {
   "cell_type": "code",
   "execution_count": 3,
   "id": "d30322f0-3806-41df-80ea-c969ef70f0c3",
   "metadata": {},
   "outputs": [
    {
     "data": {
      "text/plain": [
       "array([[1, 2],\n",
       "       [3, 4]])"
      ]
     },
     "execution_count": 3,
     "metadata": {},
     "output_type": "execute_result"
    }
   ],
   "source": [
    "A"
   ]
  },
  {
   "cell_type": "code",
   "execution_count": 5,
   "id": "de754fa8-fa24-4cae-b7e4-081213651cad",
   "metadata": {},
   "outputs": [
    {
     "name": "stdout",
     "output_type": "stream",
     "text": [
      "[[ 4  3]\n",
      " [ 4 10]]\n",
      "[[ 3  2]\n",
      " [ 3 24]]\n"
     ]
    }
   ],
   "source": [
    "# 요소 연산\n",
    "print(A+B)\n",
    "print(A*B)"
   ]
  },
  {
   "cell_type": "code",
   "execution_count": 12,
   "id": "55927c4f-7189-4b64-a8fd-fcd55ce7f031",
   "metadata": {},
   "outputs": [
    {
     "name": "stdout",
     "output_type": "stream",
     "text": [
      "[[11 12]\n",
      " [13 14]]\n",
      "[[10 20]\n",
      " [30 40]]\n"
     ]
    }
   ],
   "source": [
    "# 브로드캐스트\n",
    "C=10\n",
    "print(A+C)\n",
    "print(A*C)"
   ]
  },
  {
   "cell_type": "code",
   "execution_count": 14,
   "id": "6ad32bbf-3d79-4bf8-bbfa-15a4b884e986",
   "metadata": {},
   "outputs": [
    {
     "name": "stdout",
     "output_type": "stream",
     "text": [
      "[[11 22]\n",
      " [13 24]]\n"
     ]
    }
   ],
   "source": [
    "D=np.array([10,20])\n",
    "print(A+D)"
   ]
  },
  {
   "cell_type": "code",
   "execution_count": 15,
   "id": "ee08b17d-1c87-4cb5-892a-83e94d440cac",
   "metadata": {},
   "outputs": [
    {
     "name": "stdout",
     "output_type": "stream",
     "text": [
      "[[ 5 13]\n",
      " [13 27]]\n"
     ]
    }
   ],
   "source": [
    "# 내적\n",
    "print(np.dot(A,B))"
   ]
  },
  {
   "cell_type": "code",
   "execution_count": 22,
   "id": "798e31e7-805e-4e36-b1ce-c6433ec6d806",
   "metadata": {},
   "outputs": [
    {
     "data": {
      "text/plain": [
       "array([[10, 20],\n",
       "       [30, 40]])"
      ]
     },
     "execution_count": 22,
     "metadata": {},
     "output_type": "execute_result"
    }
   ],
   "source": [
    "# A : 2X2\n",
    "# C : 스칼라 연산\n",
    "np.dot(A,C)"
   ]
  },
  {
   "cell_type": "code",
   "execution_count": 17,
   "id": "65094989-d0b2-416f-835d-a7dbaf084f2b",
   "metadata": {},
   "outputs": [
    {
     "data": {
      "text/plain": [
       "array([[1, 2],\n",
       "       [3, 4],\n",
       "       [5, 6]])"
      ]
     },
     "execution_count": 17,
     "metadata": {},
     "output_type": "execute_result"
    }
   ],
   "source": [
    "E=np.array([[1,2],[3,4],[5,6]])\n",
    "E"
   ]
  },
  {
   "cell_type": "code",
   "execution_count": 21,
   "id": "3332549a-f1dc-48a1-aee1-3ad90632bfe5",
   "metadata": {},
   "outputs": [
    {
     "ename": "ValueError",
     "evalue": "shapes (2,2) and (3,2) not aligned: 2 (dim 1) != 3 (dim 0)",
     "output_type": "error",
     "traceback": [
      "\u001b[0;31m---------------------------------------------------------------------------\u001b[0m",
      "\u001b[0;31mValueError\u001b[0m                                Traceback (most recent call last)",
      "\u001b[0;32m/var/folders/y8/ndmbd7qd06z8j4s2vgbzhtpc0000gn/T/ipykernel_1191/1242450931.py\u001b[0m in \u001b[0;36m<module>\u001b[0;34m\u001b[0m\n\u001b[1;32m      1\u001b[0m \u001b[0;31m# A : 2X2\u001b[0m\u001b[0;34m\u001b[0m\u001b[0;34m\u001b[0m\u001b[0m\n\u001b[1;32m      2\u001b[0m \u001b[0;31m# E : 3X2\u001b[0m\u001b[0;34m\u001b[0m\u001b[0;34m\u001b[0m\u001b[0m\n\u001b[0;32m----> 3\u001b[0;31m \u001b[0mnp\u001b[0m\u001b[0;34m.\u001b[0m\u001b[0mdot\u001b[0m\u001b[0;34m(\u001b[0m\u001b[0mA\u001b[0m\u001b[0;34m,\u001b[0m\u001b[0mE\u001b[0m\u001b[0;34m)\u001b[0m\u001b[0;34m\u001b[0m\u001b[0;34m\u001b[0m\u001b[0m\n\u001b[0m",
      "\u001b[0;32m<__array_function__ internals>\u001b[0m in \u001b[0;36mdot\u001b[0;34m(*args, **kwargs)\u001b[0m\n",
      "\u001b[0;31mValueError\u001b[0m: shapes (2,2) and (3,2) not aligned: 2 (dim 1) != 3 (dim 0)"
     ]
    }
   ],
   "source": [
    "# A : 2X2\n",
    "# E : 3X2\n",
    "np.dot(A,E)"
   ]
  },
  {
   "cell_type": "markdown",
   "id": "0a2ac640-3acb-4a2d-b9da-2a28c4eea861",
   "metadata": {},
   "source": [
    "## AND 게이트"
   ]
  },
  {
   "cell_type": "code",
   "execution_count": 28,
   "id": "26d17a96-04ca-4af1-855e-fe3289b41a32",
   "metadata": {},
   "outputs": [],
   "source": [
    "def AND(x1,x2):\n",
    "    w1,w2,theta=1,1,1.5\n",
    "    tmp=x1*w1+x2*w2\n",
    "    \n",
    "    if tmp <= theta :\n",
    "        return 0\n",
    "    elif tmp > theta :\n",
    "        return 1"
   ]
  },
  {
   "cell_type": "code",
   "execution_count": 33,
   "id": "731fd610-4b0a-4c28-b548-911e267b017b",
   "metadata": {},
   "outputs": [
    {
     "name": "stdout",
     "output_type": "stream",
     "text": [
      "AND(0,0) :  0\n",
      "AND(0,1) :  0\n",
      "AND(1,0) :  0\n",
      "AND(1,1) :  1\n"
     ]
    }
   ],
   "source": [
    "print('AND(0,0) : ',AND(0,0))\n",
    "print('AND(0,1) : ',AND(0,1))\n",
    "print('AND(1,0) : ',AND(1,0))\n",
    "print('AND(1,1) : ',AND(1,1))"
   ]
  },
  {
   "cell_type": "markdown",
   "id": "06b20bc7-e8ae-4602-91ca-c365a0b25c73",
   "metadata": {},
   "source": [
    "## NAND 게이트"
   ]
  },
  {
   "cell_type": "code",
   "execution_count": 36,
   "id": "51c9cb1c-202b-4f51-ac0e-24e5e9749014",
   "metadata": {},
   "outputs": [],
   "source": [
    "def NAND(x1,x2):\n",
    "    w1,w2,theta=1,1,1.5\n",
    "    tmp=x1*w1+x2*w2\n",
    "    \n",
    "    if tmp <= theta :\n",
    "        return 1\n",
    "    elif tmp > theta :\n",
    "        return 0"
   ]
  },
  {
   "cell_type": "code",
   "execution_count": 37,
   "id": "16524365-98d6-4229-9821-16a9bc12a25f",
   "metadata": {},
   "outputs": [
    {
     "name": "stdout",
     "output_type": "stream",
     "text": [
      "NAND(0,0) :  1\n",
      "NAND(0,1) :  1\n",
      "NAND(1,0) :  1\n",
      "NAND(1,1) :  0\n"
     ]
    }
   ],
   "source": [
    "print('NAND(0,0) : ',NAND(0,0))\n",
    "print('NAND(0,1) : ',NAND(0,1))\n",
    "print('NAND(1,0) : ',NAND(1,0))\n",
    "print('NAND(1,1) : ',NAND(1,1))"
   ]
  },
  {
   "cell_type": "markdown",
   "id": "f56999ba-81c4-47b6-98c9-54df5d8b49b5",
   "metadata": {},
   "source": [
    "## OR 게이트"
   ]
  },
  {
   "cell_type": "code",
   "execution_count": 40,
   "id": "8f89ef9e-4e12-4ed7-9d10-e709cb92920b",
   "metadata": {},
   "outputs": [],
   "source": [
    "def OR(x1,x2):\n",
    "    w1,w2,theta=1,1,0.5\n",
    "    tmp=x1*w1+x2*w2\n",
    "    \n",
    "    if tmp <= theta :\n",
    "        return 0\n",
    "    elif tmp > theta :\n",
    "        return 1"
   ]
  },
  {
   "cell_type": "code",
   "execution_count": 41,
   "id": "324a53f7-3cb7-458a-999e-79a5d2752de2",
   "metadata": {},
   "outputs": [
    {
     "name": "stdout",
     "output_type": "stream",
     "text": [
      "OR(0,0) :  0\n",
      "OR(0,1) :  1\n",
      "OR(1,0) :  1\n",
      "OR(1,1) :  1\n"
     ]
    }
   ],
   "source": [
    "print('OR(0,0) : ',OR(0,0))\n",
    "print('OR(0,1) : ',OR(0,1))\n",
    "print('OR(1,0) : ',OR(1,0))\n",
    "print('OR(1,1) : ',OR(1,1))"
   ]
  },
  {
   "cell_type": "code",
   "execution_count": null,
   "id": "ab8dd586-b743-4e94-ba82-422b70bc9716",
   "metadata": {},
   "outputs": [],
   "source": []
  }
 ],
 "metadata": {
  "kernelspec": {
   "display_name": "Python 3 (ipykernel)",
   "language": "python",
   "name": "python3"
  },
  "language_info": {
   "codemirror_mode": {
    "name": "ipython",
    "version": 3
   },
   "file_extension": ".py",
   "mimetype": "text/x-python",
   "name": "python",
   "nbconvert_exporter": "python",
   "pygments_lexer": "ipython3",
   "version": "3.9.13"
  }
 },
 "nbformat": 4,
 "nbformat_minor": 5
}
